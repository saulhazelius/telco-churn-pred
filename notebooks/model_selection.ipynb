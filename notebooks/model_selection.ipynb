{
 "cells": [
  {
   "cell_type": "markdown",
   "id": "fd65d7f5",
   "metadata": {},
   "source": [
    "### Churn Prediction\n",
    "\n",
    "#### Dataset: Telco: https://www.kaggle.com/datasets/blastchar/telco-customer-churn\n",
    "\n",
    "#### Model selection.\n",
    "\n",
    "From the previous notebook (churn_predicion.ipynb) we saw that logistic regression outperformed random forest using a standard train test splitting and default model parameters. In this notebook we are gonna compare logistic regression with RF, but changing its hyperparameters. The hyperparameters search will be performed employing bayesian optimization and the metrics will be recorded via MLFlow."
   ]
  },
  {
   "cell_type": "code",
   "execution_count": 1,
   "id": "bef12f66",
   "metadata": {},
   "outputs": [],
   "source": [
    "import joblib\n",
    "import mlflow\n",
    "import numpy as np\n",
    "import pandas as pd\n",
    "from hyperopt import STATUS_OK, Trials, fmin, hp, space_eval, tpe\n",
    "from hyperopt.pyll.base import scope\n",
    "from sklearn.ensemble import RandomForestClassifier\n",
    "from sklearn.feature_extraction import DictVectorizer\n",
    "from sklearn.linear_model import LogisticRegression\n",
    "from sklearn.metrics import (\n",
    "    accuracy_score,\n",
    "    f1_score,\n",
    "    precision_score,\n",
    "    recall_score,\n",
    "    roc_auc_score,\n",
    ")\n",
    "from sklearn.model_selection import StratifiedKFold, cross_val_score, train_test_split"
   ]
  },
  {
   "cell_type": "code",
   "execution_count": 2,
   "id": "75a06726-b492-4e68-bc7a-81682174d186",
   "metadata": {},
   "outputs": [],
   "source": [
    "def preprocess():\n",
    "    \"\"\"Preprocessing of DataFrame returning cleaned selected variables\"\"\"\n",
    "\n",
    "    df = pd.read_csv(\"WA_Fn-UseC_-Telco-Customer-Churn.csv\")\n",
    "\n",
    "    df.TotalCharges.replace(\" \", np.nan, inplace=True)\n",
    "    df.TotalCharges = df.TotalCharges.astype(float)\n",
    "    df.dropna(inplace=True)\n",
    "    df.Churn = (df.Churn == \"Yes\").astype(int)\n",
    "    sel_vars = [\n",
    "        \"Contract\",\n",
    "        \"OnlineSecurity\",\n",
    "        \"TechSupport\",\n",
    "        \"OnlineBackup\",\n",
    "        \"InternetService\",\n",
    "        \"MonthlyCharges\",\n",
    "        \"TotalCharges\",\n",
    "        \"tenure\",\n",
    "    ]\n",
    "    df_sel = df[sel_vars]\n",
    "    dic_df = df_sel.to_dict(orient=\"records\")\n",
    "    dv = DictVectorizer(sparse=False)\n",
    "    X = dv.fit_transform(dic_df)  # Returns an np array\n",
    "    y = df.Churn  # Pandas series, anyway the classifier can deal with it\n",
    "\n",
    "    return X, y"
   ]
  },
  {
   "cell_type": "code",
   "execution_count": 3,
   "id": "f64ca7e6-3265-4403-86a0-3ae5ef02d9a1",
   "metadata": {},
   "outputs": [],
   "source": [
    "X, y = preprocess()"
   ]
  },
  {
   "cell_type": "markdown",
   "id": "ef42feec-c2b2-408d-94d6-1529b59e5f87",
   "metadata": {},
   "source": [
    "### Model evaluation strategy:\n",
    "* 25% hold-out set\n",
    "* 75% CV 5-fold for hyperparameters search"
   ]
  },
  {
   "cell_type": "code",
   "execution_count": 4,
   "id": "18019f14-032e-4a38-ada7-23659f70c5f9",
   "metadata": {},
   "outputs": [],
   "source": [
    "KF = 5\n",
    "TEST_SIZE = 0.25\n",
    "X_train, X_test, y_train, y_test = train_test_split(\n",
    "    X, y, test_size=TEST_SIZE, random_state=0, stratify=y\n",
    ")"
   ]
  },
  {
   "cell_type": "code",
   "execution_count": 5,
   "id": "245924c8-1c93-401d-9967-b236b5ced5b9",
   "metadata": {},
   "outputs": [],
   "source": [
    "# Hyperparams for bayes optimization with hyperopt\n",
    "lr_space = {\n",
    "    \"penalty\": hp.choice(\"penalty\", [\"l1\", \"l2\"]),\n",
    "    \"C\": hp.uniform(\"C\", 0, 10),\n",
    "}"
   ]
  },
  {
   "cell_type": "code",
   "execution_count": 6,
   "id": "c83b73ac-30f4-465f-ac5b-17cb79380159",
   "metadata": {},
   "outputs": [],
   "source": [
    "rf_space = {\n",
    "    \"max_depth\": scope.int(hp.quniform(\"max_depth\", 3, 18, 1)),\n",
    "    \"n_estimators\": scope.int(hp.quniform(\"n_estimators\", 80, 320, 20)),\n",
    "    \"min_samples_leaf\": scope.int(hp.quniform(\"min_samples_leaf\", 3, 13, 2)),\n",
    "    \"random_state\": scope.int(hp.choice(\"random_state\", [22, 44, 66])),\n",
    "}"
   ]
  },
  {
   "cell_type": "code",
   "execution_count": 7,
   "id": "1d9466d9-2b7e-45fa-9e5c-d2f3326a14af",
   "metadata": {},
   "outputs": [],
   "source": [
    "def objective_lr(space, kf=KF):\n",
    "\n",
    "    clf = LogisticRegression(solver=\"liblinear\", C=space[\"C\"], penalty=space[\"penalty\"])\n",
    "\n",
    "    cv = StratifiedKFold(random_state=22, n_splits=KF, shuffle=True)\n",
    "    score = cross_val_score(\n",
    "        clf, X_train, y_train, cv=cv, scoring=\"accuracy\", n_jobs=-1\n",
    "    ).mean()\n",
    "\n",
    "    loss = -score\n",
    "    print(f\"Accuracy: {score}\")\n",
    "\n",
    "    return {\"loss\": loss, \"params\": space, \"status\": STATUS_OK}"
   ]
  },
  {
   "cell_type": "code",
   "execution_count": 8,
   "id": "0bdf02ad-5361-4a56-b437-f86a03f29192",
   "metadata": {},
   "outputs": [],
   "source": [
    "def objective_rf(space, kf=KF):\n",
    "\n",
    "    clf = RandomForestClassifier(**space)\n",
    "\n",
    "    cv = StratifiedKFold(random_state=22, n_splits=KF, shuffle=True)\n",
    "    score = cross_val_score(\n",
    "        clf, X_train, y_train, cv=cv, scoring=\"accuracy\", n_jobs=-1\n",
    "    ).mean()\n",
    "\n",
    "    loss = -score\n",
    "    print(f\"Accuracy: {score}\")\n",
    "\n",
    "    return {\"loss\": loss, \"params\": space, \"status\": STATUS_OK}"
   ]
  },
  {
   "cell_type": "code",
   "execution_count": 9,
   "id": "9c7b8788-c4d6-492a-9ffc-18d1c037fae7",
   "metadata": {},
   "outputs": [
    {
     "name": "stderr",
     "output_type": "stream",
     "text": [
      "2022/11/01 01:03:48 INFO mlflow.tracking.fluent: Experiment with name 'Hyperparams_Search' does not exist. Creating a new experiment.\n"
     ]
    },
    {
     "data": {
      "text/plain": [
       "<Experiment: artifact_location='file:///home/saul/telco-churn-pred/notebooks/mlruns/1', creation_time=1667286228901, experiment_id='1', last_update_time=1667286228901, lifecycle_stage='active', name='Hyperparams_Search', tags={}>"
      ]
     },
     "execution_count": 9,
     "metadata": {},
     "output_type": "execute_result"
    }
   ],
   "source": [
    "mlflow.set_experiment(\"Hyperparams_Search\")"
   ]
  },
  {
   "cell_type": "code",
   "execution_count": 10,
   "id": "5643edae-66a8-48ba-aae5-770e5b251f8f",
   "metadata": {},
   "outputs": [
    {
     "name": "stdout",
     "output_type": "stream",
     "text": [
      "Accuracy: 0.7935152926787593                          \n",
      "Accuracy: 0.7925661663534088                                                     \n",
      "Accuracy: 0.7925661663534088                                                     \n",
      "Accuracy: 0.7925661663534088                                                     \n",
      "Accuracy: 0.7937048661384749                                                     \n",
      "Accuracy: 0.7946527334370531                                                     \n",
      "Accuracy: 0.7925661663534088                                                     \n",
      "Accuracy: 0.7948423068967687                                                     \n",
      "Accuracy: 0.7925661663534088                                                     \n",
      "Accuracy: 0.7933257192190437                                                     \n",
      "Accuracy: 0.7937048661384749                                                      \n",
      "Accuracy: 0.7925661663534088                                                      \n",
      "100%|██████████| 12/12 [00:04<00:00,  2.88trial/s, best loss: -0.7948423068967687]\n"
     ]
    }
   ],
   "source": [
    "trials_lr = Trials()\n",
    "with mlflow.start_run(run_name=\"hypersearch_lr\") as run:\n",
    "\n",
    "    best = fmin(\n",
    "        fn=objective_lr,\n",
    "        space=lr_space,\n",
    "        algo=tpe.suggest,\n",
    "        max_evals=12,\n",
    "        trials=trials_lr,\n",
    "        rstate=np.random.default_rng(789),\n",
    "    )\n",
    "    best_lr = space_eval(lr_space, best)\n",
    "    mlflow.log_dict(best_lr, \"best_lr_params.json\")\n",
    "    mlflow.log_params(best_lr)\n",
    "    mlflow.log_metric(\"best_acc\", -trials_lr.best_trial[\"result\"][\"loss\"])"
   ]
  },
  {
   "cell_type": "code",
   "execution_count": 11,
   "id": "17c33fd0-e21a-4083-9a2d-12c38001f798",
   "metadata": {},
   "outputs": [
    {
     "name": "stdout",
     "output_type": "stream",
     "text": [
      "Accuracy: 0.7918078725145463                          \n",
      "Accuracy: 0.7954106675539807                                                     \n",
      "Accuracy: 0.795409228666241                                                      \n",
      "Accuracy: 0.7944620808115327                                                     \n",
      "Accuracy: 0.7916170400280583                                                     \n",
      "Accuracy: 0.7935142135129545                                                     \n",
      "Accuracy: 0.7916179393328957                                                     \n",
      "Accuracy: 0.7916186587767656                                                     \n",
      "Accuracy: 0.7946521938541506                                                     \n",
      "Accuracy: 0.7938928208494833                                                     \n",
      "Accuracy: 0.7944615412286302                                                      \n",
      "Accuracy: 0.7938933604323858                                                      \n",
      "100%|██████████| 12/12 [00:35<00:00,  2.96s/trial, best loss: -0.7954106675539807]\n"
     ]
    }
   ],
   "source": [
    "trials_rf = Trials()\n",
    "with mlflow.start_run(run_name=\"hypersearch_rf\") as run:\n",
    "\n",
    "    best = fmin(\n",
    "        fn=objective_rf,\n",
    "        space=rf_space,\n",
    "        algo=tpe.suggest,\n",
    "        max_evals=12,\n",
    "        trials=trials_rf,\n",
    "        rstate=np.random.default_rng(789),\n",
    "    )\n",
    "    best_rf = space_eval(rf_space, best)\n",
    "    mlflow.log_dict(best_rf, \"best_rf_params.json\")\n",
    "    mlflow.log_params(best_rf)\n",
    "    mlflow.log_metric(\"best_acc\", -trials_rf.best_trial[\"result\"][\"loss\"])"
   ]
  },
  {
   "cell_type": "code",
   "execution_count": 12,
   "id": "d7207b4f-0276-4f44-80ef-f04469b1586f",
   "metadata": {},
   "outputs": [
    {
     "data": {
      "text/plain": [
       "0.7948423068967687"
      ]
     },
     "execution_count": 12,
     "metadata": {},
     "output_type": "execute_result"
    }
   ],
   "source": [
    "# Best accuracy Log Reg:\n",
    "-trials_lr.best_trial[\"result\"][\"loss\"]"
   ]
  },
  {
   "cell_type": "code",
   "execution_count": 13,
   "id": "7c02507a-ec09-485b-8383-820b2a8a89b0",
   "metadata": {},
   "outputs": [
    {
     "data": {
      "text/plain": [
       "0.7954106675539807"
      ]
     },
     "execution_count": 13,
     "metadata": {},
     "output_type": "execute_result"
    }
   ],
   "source": [
    "# Best accuracy RF:\n",
    "-trials_rf.best_trial[\"result\"][\"loss\"]"
   ]
  },
  {
   "cell_type": "markdown",
   "id": "89575f6c-94e2-47f5-87db-a1548c434ba5",
   "metadata": {},
   "source": [
    "#### Metrics with the hold-out set:"
   ]
  },
  {
   "cell_type": "markdown",
   "id": "29ef02cf-c341-4ad1-ada0-64766ef8b793",
   "metadata": {},
   "source": [
    "#### Log reg"
   ]
  },
  {
   "cell_type": "code",
   "execution_count": 14,
   "id": "77be5361-7139-414e-a8d5-456c6ba5553f",
   "metadata": {},
   "outputs": [],
   "source": [
    "lr = LogisticRegression(**best_lr, solver=\"liblinear\")"
   ]
  },
  {
   "cell_type": "code",
   "execution_count": 15,
   "id": "53667e97-2da4-48d1-9835-de0ba094603d",
   "metadata": {},
   "outputs": [
    {
     "data": {
      "text/html": [
       "<style>#sk-container-id-1 {color: black;background-color: white;}#sk-container-id-1 pre{padding: 0;}#sk-container-id-1 div.sk-toggleable {background-color: white;}#sk-container-id-1 label.sk-toggleable__label {cursor: pointer;display: block;width: 100%;margin-bottom: 0;padding: 0.3em;box-sizing: border-box;text-align: center;}#sk-container-id-1 label.sk-toggleable__label-arrow:before {content: \"▸\";float: left;margin-right: 0.25em;color: #696969;}#sk-container-id-1 label.sk-toggleable__label-arrow:hover:before {color: black;}#sk-container-id-1 div.sk-estimator:hover label.sk-toggleable__label-arrow:before {color: black;}#sk-container-id-1 div.sk-toggleable__content {max-height: 0;max-width: 0;overflow: hidden;text-align: left;background-color: #f0f8ff;}#sk-container-id-1 div.sk-toggleable__content pre {margin: 0.2em;color: black;border-radius: 0.25em;background-color: #f0f8ff;}#sk-container-id-1 input.sk-toggleable__control:checked~div.sk-toggleable__content {max-height: 200px;max-width: 100%;overflow: auto;}#sk-container-id-1 input.sk-toggleable__control:checked~label.sk-toggleable__label-arrow:before {content: \"▾\";}#sk-container-id-1 div.sk-estimator input.sk-toggleable__control:checked~label.sk-toggleable__label {background-color: #d4ebff;}#sk-container-id-1 div.sk-label input.sk-toggleable__control:checked~label.sk-toggleable__label {background-color: #d4ebff;}#sk-container-id-1 input.sk-hidden--visually {border: 0;clip: rect(1px 1px 1px 1px);clip: rect(1px, 1px, 1px, 1px);height: 1px;margin: -1px;overflow: hidden;padding: 0;position: absolute;width: 1px;}#sk-container-id-1 div.sk-estimator {font-family: monospace;background-color: #f0f8ff;border: 1px dotted black;border-radius: 0.25em;box-sizing: border-box;margin-bottom: 0.5em;}#sk-container-id-1 div.sk-estimator:hover {background-color: #d4ebff;}#sk-container-id-1 div.sk-parallel-item::after {content: \"\";width: 100%;border-bottom: 1px solid gray;flex-grow: 1;}#sk-container-id-1 div.sk-label:hover label.sk-toggleable__label {background-color: #d4ebff;}#sk-container-id-1 div.sk-serial::before {content: \"\";position: absolute;border-left: 1px solid gray;box-sizing: border-box;top: 0;bottom: 0;left: 50%;z-index: 0;}#sk-container-id-1 div.sk-serial {display: flex;flex-direction: column;align-items: center;background-color: white;padding-right: 0.2em;padding-left: 0.2em;position: relative;}#sk-container-id-1 div.sk-item {position: relative;z-index: 1;}#sk-container-id-1 div.sk-parallel {display: flex;align-items: stretch;justify-content: center;background-color: white;position: relative;}#sk-container-id-1 div.sk-item::before, #sk-container-id-1 div.sk-parallel-item::before {content: \"\";position: absolute;border-left: 1px solid gray;box-sizing: border-box;top: 0;bottom: 0;left: 50%;z-index: -1;}#sk-container-id-1 div.sk-parallel-item {display: flex;flex-direction: column;z-index: 1;position: relative;background-color: white;}#sk-container-id-1 div.sk-parallel-item:first-child::after {align-self: flex-end;width: 50%;}#sk-container-id-1 div.sk-parallel-item:last-child::after {align-self: flex-start;width: 50%;}#sk-container-id-1 div.sk-parallel-item:only-child::after {width: 0;}#sk-container-id-1 div.sk-dashed-wrapped {border: 1px dashed gray;margin: 0 0.4em 0.5em 0.4em;box-sizing: border-box;padding-bottom: 0.4em;background-color: white;}#sk-container-id-1 div.sk-label label {font-family: monospace;font-weight: bold;display: inline-block;line-height: 1.2em;}#sk-container-id-1 div.sk-label-container {text-align: center;}#sk-container-id-1 div.sk-container {/* jupyter's `normalize.less` sets `[hidden] { display: none; }` but bootstrap.min.css set `[hidden] { display: none !important; }` so we also need the `!important` here to be able to override the default hidden behavior on the sphinx rendered scikit-learn.org. See: https://github.com/scikit-learn/scikit-learn/issues/21755 */display: inline-block !important;position: relative;}#sk-container-id-1 div.sk-text-repr-fallback {display: none;}</style><div id=\"sk-container-id-1\" class=\"sk-top-container\"><div class=\"sk-text-repr-fallback\"><pre>LogisticRegression(C=4.916204228045843, penalty=&#x27;l1&#x27;, solver=&#x27;liblinear&#x27;)</pre><b>In a Jupyter environment, please rerun this cell to show the HTML representation or trust the notebook. <br />On GitHub, the HTML representation is unable to render, please try loading this page with nbviewer.org.</b></div><div class=\"sk-container\" hidden><div class=\"sk-item\"><div class=\"sk-estimator sk-toggleable\"><input class=\"sk-toggleable__control sk-hidden--visually\" id=\"sk-estimator-id-1\" type=\"checkbox\" checked><label for=\"sk-estimator-id-1\" class=\"sk-toggleable__label sk-toggleable__label-arrow\">LogisticRegression</label><div class=\"sk-toggleable__content\"><pre>LogisticRegression(C=4.916204228045843, penalty=&#x27;l1&#x27;, solver=&#x27;liblinear&#x27;)</pre></div></div></div></div></div>"
      ],
      "text/plain": [
       "LogisticRegression(C=4.916204228045843, penalty='l1', solver='liblinear')"
      ]
     },
     "execution_count": 15,
     "metadata": {},
     "output_type": "execute_result"
    }
   ],
   "source": [
    "lr.fit(X_train, y_train)"
   ]
  },
  {
   "cell_type": "code",
   "execution_count": 16,
   "id": "1a2a78a5-23b8-4183-927c-633f718fa23f",
   "metadata": {},
   "outputs": [],
   "source": [
    "y_pred = lr.predict(X_test)"
   ]
  },
  {
   "cell_type": "code",
   "execution_count": 17,
   "id": "d7292e33-b120-41b2-bd7d-556028cfaa60",
   "metadata": {},
   "outputs": [
    {
     "data": {
      "text/plain": [
       "0.8048919226393629"
      ]
     },
     "execution_count": 17,
     "metadata": {},
     "output_type": "execute_result"
    }
   ],
   "source": [
    "# Accuracy hold out set\n",
    "accuracy_score(y_pred, y_test)"
   ]
  },
  {
   "cell_type": "code",
   "execution_count": 18,
   "id": "e9ea8338-7d88-4cc8-baec-dfc5412b8241",
   "metadata": {},
   "outputs": [
    {
     "data": {
      "text/plain": [
       "0.5940828402366864"
      ]
     },
     "execution_count": 18,
     "metadata": {},
     "output_type": "execute_result"
    }
   ],
   "source": [
    "# f1-score\n",
    "f1_score(y_pred, y_test)"
   ]
  },
  {
   "cell_type": "code",
   "execution_count": 19,
   "id": "a9987b01-a446-443f-bb6a-d63bf2e71ec6",
   "metadata": {},
   "outputs": [
    {
     "data": {
      "text/plain": [
       "0.7537497124453647"
      ]
     },
     "execution_count": 19,
     "metadata": {},
     "output_type": "execute_result"
    }
   ],
   "source": [
    "# roc_auc\n",
    "roc_auc_score(y_pred, y_test)"
   ]
  },
  {
   "cell_type": "markdown",
   "id": "689375cd-7555-40df-9962-f86f0d0ce034",
   "metadata": {},
   "source": [
    "RF"
   ]
  },
  {
   "cell_type": "code",
   "execution_count": 20,
   "id": "e13e0768-642b-47d0-a033-866f504b0235",
   "metadata": {},
   "outputs": [],
   "source": [
    "rf = RandomForestClassifier(**best_rf)"
   ]
  },
  {
   "cell_type": "code",
   "execution_count": 21,
   "id": "9cd9abfa-eca5-4028-83e5-f19849e13cdc",
   "metadata": {},
   "outputs": [
    {
     "data": {
      "text/html": [
       "<style>#sk-container-id-2 {color: black;background-color: white;}#sk-container-id-2 pre{padding: 0;}#sk-container-id-2 div.sk-toggleable {background-color: white;}#sk-container-id-2 label.sk-toggleable__label {cursor: pointer;display: block;width: 100%;margin-bottom: 0;padding: 0.3em;box-sizing: border-box;text-align: center;}#sk-container-id-2 label.sk-toggleable__label-arrow:before {content: \"▸\";float: left;margin-right: 0.25em;color: #696969;}#sk-container-id-2 label.sk-toggleable__label-arrow:hover:before {color: black;}#sk-container-id-2 div.sk-estimator:hover label.sk-toggleable__label-arrow:before {color: black;}#sk-container-id-2 div.sk-toggleable__content {max-height: 0;max-width: 0;overflow: hidden;text-align: left;background-color: #f0f8ff;}#sk-container-id-2 div.sk-toggleable__content pre {margin: 0.2em;color: black;border-radius: 0.25em;background-color: #f0f8ff;}#sk-container-id-2 input.sk-toggleable__control:checked~div.sk-toggleable__content {max-height: 200px;max-width: 100%;overflow: auto;}#sk-container-id-2 input.sk-toggleable__control:checked~label.sk-toggleable__label-arrow:before {content: \"▾\";}#sk-container-id-2 div.sk-estimator input.sk-toggleable__control:checked~label.sk-toggleable__label {background-color: #d4ebff;}#sk-container-id-2 div.sk-label input.sk-toggleable__control:checked~label.sk-toggleable__label {background-color: #d4ebff;}#sk-container-id-2 input.sk-hidden--visually {border: 0;clip: rect(1px 1px 1px 1px);clip: rect(1px, 1px, 1px, 1px);height: 1px;margin: -1px;overflow: hidden;padding: 0;position: absolute;width: 1px;}#sk-container-id-2 div.sk-estimator {font-family: monospace;background-color: #f0f8ff;border: 1px dotted black;border-radius: 0.25em;box-sizing: border-box;margin-bottom: 0.5em;}#sk-container-id-2 div.sk-estimator:hover {background-color: #d4ebff;}#sk-container-id-2 div.sk-parallel-item::after {content: \"\";width: 100%;border-bottom: 1px solid gray;flex-grow: 1;}#sk-container-id-2 div.sk-label:hover label.sk-toggleable__label {background-color: #d4ebff;}#sk-container-id-2 div.sk-serial::before {content: \"\";position: absolute;border-left: 1px solid gray;box-sizing: border-box;top: 0;bottom: 0;left: 50%;z-index: 0;}#sk-container-id-2 div.sk-serial {display: flex;flex-direction: column;align-items: center;background-color: white;padding-right: 0.2em;padding-left: 0.2em;position: relative;}#sk-container-id-2 div.sk-item {position: relative;z-index: 1;}#sk-container-id-2 div.sk-parallel {display: flex;align-items: stretch;justify-content: center;background-color: white;position: relative;}#sk-container-id-2 div.sk-item::before, #sk-container-id-2 div.sk-parallel-item::before {content: \"\";position: absolute;border-left: 1px solid gray;box-sizing: border-box;top: 0;bottom: 0;left: 50%;z-index: -1;}#sk-container-id-2 div.sk-parallel-item {display: flex;flex-direction: column;z-index: 1;position: relative;background-color: white;}#sk-container-id-2 div.sk-parallel-item:first-child::after {align-self: flex-end;width: 50%;}#sk-container-id-2 div.sk-parallel-item:last-child::after {align-self: flex-start;width: 50%;}#sk-container-id-2 div.sk-parallel-item:only-child::after {width: 0;}#sk-container-id-2 div.sk-dashed-wrapped {border: 1px dashed gray;margin: 0 0.4em 0.5em 0.4em;box-sizing: border-box;padding-bottom: 0.4em;background-color: white;}#sk-container-id-2 div.sk-label label {font-family: monospace;font-weight: bold;display: inline-block;line-height: 1.2em;}#sk-container-id-2 div.sk-label-container {text-align: center;}#sk-container-id-2 div.sk-container {/* jupyter's `normalize.less` sets `[hidden] { display: none; }` but bootstrap.min.css set `[hidden] { display: none !important; }` so we also need the `!important` here to be able to override the default hidden behavior on the sphinx rendered scikit-learn.org. See: https://github.com/scikit-learn/scikit-learn/issues/21755 */display: inline-block !important;position: relative;}#sk-container-id-2 div.sk-text-repr-fallback {display: none;}</style><div id=\"sk-container-id-2\" class=\"sk-top-container\"><div class=\"sk-text-repr-fallback\"><pre>RandomForestClassifier(max_depth=15, min_samples_leaf=8, n_estimators=200,\n",
       "                       random_state=66)</pre><b>In a Jupyter environment, please rerun this cell to show the HTML representation or trust the notebook. <br />On GitHub, the HTML representation is unable to render, please try loading this page with nbviewer.org.</b></div><div class=\"sk-container\" hidden><div class=\"sk-item\"><div class=\"sk-estimator sk-toggleable\"><input class=\"sk-toggleable__control sk-hidden--visually\" id=\"sk-estimator-id-2\" type=\"checkbox\" checked><label for=\"sk-estimator-id-2\" class=\"sk-toggleable__label sk-toggleable__label-arrow\">RandomForestClassifier</label><div class=\"sk-toggleable__content\"><pre>RandomForestClassifier(max_depth=15, min_samples_leaf=8, n_estimators=200,\n",
       "                       random_state=66)</pre></div></div></div></div></div>"
      ],
      "text/plain": [
       "RandomForestClassifier(max_depth=15, min_samples_leaf=8, n_estimators=200,\n",
       "                       random_state=66)"
      ]
     },
     "execution_count": 21,
     "metadata": {},
     "output_type": "execute_result"
    }
   ],
   "source": [
    "rf.fit(X_train, y_train)"
   ]
  },
  {
   "cell_type": "code",
   "execution_count": 22,
   "id": "b48b1af5-72c8-434b-b716-4a54e10e370a",
   "metadata": {},
   "outputs": [],
   "source": [
    "y_pred = rf.predict(X_test)"
   ]
  },
  {
   "cell_type": "code",
   "execution_count": 23,
   "id": "f25030a4-7b36-49f7-bdee-9e5a3e02e6b8",
   "metadata": {},
   "outputs": [
    {
     "data": {
      "text/plain": [
       "0.7974971558589306"
      ]
     },
     "execution_count": 23,
     "metadata": {},
     "output_type": "execute_result"
    }
   ],
   "source": [
    "# Accuracy hold out set\n",
    "accuracy_score(y_pred, y_test)"
   ]
  },
  {
   "cell_type": "code",
   "execution_count": 24,
   "id": "09763156-736b-442a-948c-6faf065ab1af",
   "metadata": {},
   "outputs": [
    {
     "data": {
      "text/plain": [
       "0.5658536585365854"
      ]
     },
     "execution_count": 24,
     "metadata": {},
     "output_type": "execute_result"
    }
   ],
   "source": [
    "# f1-score\n",
    "f1_score(y_pred, y_test)"
   ]
  },
  {
   "cell_type": "code",
   "execution_count": 25,
   "id": "360cf53c-dd4f-407c-bcd1-4cd6823d2353",
   "metadata": {},
   "outputs": [
    {
     "data": {
      "text/plain": [
       "0.744982004778563"
      ]
     },
     "execution_count": 25,
     "metadata": {},
     "output_type": "execute_result"
    }
   ],
   "source": [
    "# roc_auc\n",
    "roc_auc_score(y_pred, y_test)"
   ]
  },
  {
   "cell_type": "markdown",
   "id": "e0f36985-80e5-4074-b14d-27704b20c526",
   "metadata": {},
   "source": [
    "### Model selected:\n",
    "#### Logistic Regression"
   ]
  },
  {
   "cell_type": "code",
   "execution_count": 27,
   "id": "76e82ac0-4002-40ca-aabb-91fd5b5b380b",
   "metadata": {},
   "outputs": [
    {
     "data": {
      "text/plain": [
       "['../model/churn_prediction']"
      ]
     },
     "execution_count": 27,
     "metadata": {},
     "output_type": "execute_result"
    }
   ],
   "source": [
    "joblib.dump(lr,'../model/churn_prediction')"
   ]
  }
 ],
 "metadata": {
  "kernelspec": {
   "display_name": "Python 3",
   "language": "python",
   "name": "python3"
  },
  "language_info": {
   "codemirror_mode": {
    "name": "ipython",
    "version": 3
   },
   "file_extension": ".py",
   "mimetype": "text/x-python",
   "name": "python",
   "nbconvert_exporter": "python",
   "pygments_lexer": "ipython3",
   "version": "3.9.12"
  }
 },
 "nbformat": 4,
 "nbformat_minor": 5
}
